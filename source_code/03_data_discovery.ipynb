{
 "cells": [
  {
   "cell_type": "markdown",
   "metadata": {},
   "source": [
    "<div style=\"text-align: center; background-color: #5A96E3; font-family: 'Trebuchet MS', Arial, sans-serif; color: white; padding: 20px; font-size: 40px; font-weight: bold; border-radius: 0 0 0 0; box-shadow: 0px 6px 8px rgba(0, 0, 0, 0.2);\">\n",
    "  Data Discovery\n",
    "</div>"
   ]
  },
  {
   "cell_type": "code",
   "execution_count": null,
   "metadata": {},
   "outputs": [],
   "source": [
    "import pandas as pd\n",
    "import seaborn as sbs\n",
    "import numpy as np\n",
    "import matplotlib.pyplot as plt"
   ]
  },
  {
   "cell_type": "markdown",
   "metadata": {},
   "source": [
    "### Read processed data"
   ]
  },
  {
   "cell_type": "code",
   "execution_count": null,
   "metadata": {},
   "outputs": [],
   "source": [
    "processed_data=[]\n",
    "processed_data.append(pd.read_csv(\"../data/processed/preprocess_OA.csv\"))\n",
    "processed_data.append(pd.read_csv(\"../data/processed/preprocess_OEA.csv\"))\n",
    "processed_data.append(pd.read_csv(\"../data/processed/preprocess_OER.csv\"))\n",
    "processed_data.append(pd.read_csv(\"../data/processed/preprocess_QCL.csv\"))\n",
    "processed_data.append(pd.read_csv(\"../data/processed/preprocess_QV.csv\"))"
   ]
  },
  {
   "cell_type": "markdown",
   "metadata": {},
   "source": [
    "### Read the external content and merge with the processed data"
   ]
  },
  {
   "cell_type": "code",
   "execution_count": null,
   "metadata": {},
   "outputs": [],
   "source": [
    "external_data=[]\n",
    "external_data.append(pd.read_csv(\"../data/external/area_code.csv\"))\n",
    "external_data.append(pd.read_csv(\"../data/external/domain_code.csv\"))\n",
    "external_data.append(pd.read_csv(\"../data/external/element_code.csv\"))\n",
    "external_data.append(pd.read_csv(\"../data/external/flag_des.csv\"))\n",
    "external_data.append(pd.read_csv(\"../data/external/indicator_code.csv\"))\n",
    "external_data.append(pd.read_csv(\"../data/external/item_code.csv\"))\n",
    "external_data.append(pd.read_csv(\"../data/external/source_code.csv\"))"
   ]
  },
  {
   "cell_type": "markdown",
   "metadata": {},
   "source": [
    "### With the data collected, and what we know about the data, we shall make questions"
   ]
  },
  {
   "cell_type": "markdown",
   "metadata": {},
   "source": [
    "# Question 1: What is the production value growth of every item, from 2000 to 2021?"
   ]
  },
  {
   "cell_type": "markdown",
   "metadata": {},
   "source": [
    "### The QCL database is where we will analyze and get an answer"
   ]
  },
  {
   "cell_type": "code",
   "execution_count": null,
   "metadata": {},
   "outputs": [],
   "source": [
    "production=pd.merge(processed_data[3], external_data[2], how='left', on='Element Code')\n",
    "production=pd.merge(production, external_data[5], how='left', on='Item Code')\n",
    "display(production)"
   ]
  },
  {
   "cell_type": "markdown",
   "metadata": {},
   "source": [
    "### Now, we will take only the production value of the data between 2000 and 2021, with flag A of the grain items"
   ]
  },
  {
   "cell_type": "code",
   "execution_count": null,
   "metadata": {},
   "outputs": [],
   "source": [
    "production=production[production['Year'].between(2000, 2021)][production['Element']=='Production (t)']\n",
    "production=production[production['Item'].str.contains(\"Wheat|Rice|Maize|Sorghum|Barley|Rye|Oats|Millet|Triticale|Fonio|Quinoa|Canary seed\")][production['Value']!=0]\n",
    "display(production)"
   ]
  },
  {
   "cell_type": "markdown",
   "metadata": {},
   "source": [
    "### Finally, for each element, calculate the growth rate starting from 2000, and draw a graph chart to show the growth process"
   ]
  },
  {
   "cell_type": "code",
   "execution_count": null,
   "metadata": {},
   "outputs": [],
   "source": [
    "nrows=1\n",
    "ncols=3\n",
    "fig, axes=plt.subplots(nrows, ncols, figsize=(20, 10))\n",
    "plt.tight_layout(pad=2.5, w_pad=2.5, h_pad=3)\n",
    "\n",
    "i=0\n",
    "\n",
    "for item in production['Item'].unique():\n",
    "    try: \n",
    "        temp=production[production['Item']==item]\n",
    "        pro=pd.DataFrame()\n",
    "        pro[\"Growth\"]=temp[\"Value\"].pct_change()\n",
    "        pro[\"Year\"]=temp[\"Year\"]\n",
    "\n",
    "        pro.plot(x='Year', y='Growth', color='red', title=item, ax=axes[i])\n",
    "        \n",
    "    except ValueError:\n",
    "        pass\n",
    "    i=i+1\n",
    "plt.show()"
   ]
  },
  {
   "cell_type": "markdown",
   "metadata": {},
   "source": [
    "### Comment:\n",
    "- The graph above demonstrates the growth rates of 3 grain items' production value, from 2000 to 2021. This is to show the changes of production rates between years, giving an insight and a general prediction \n",
    "- Maize (corn)\n",
    "    - Has a very discontinous growth rate\n",
    "    - Greatest growth rate: 25%, in 2003\n",
    "    - Greatest decrease rate: 4%, in 2009\n",
    "- Millet\n",
    "    - Has a very discontinous growth rate\n",
    "    - Greatest growth rate: 150%, in 2016\n",
    "    - Greatest decrease rate: 45%, in 2020\n",
    "- Rice\n",
    "    - Has a very discontinous growth rate\n",
    "    - Greatest growth rate: 7.5%, in 2008\n",
    "    - Greatest decrease rate: 4%, in 2016\n",
    "-   In conclusion: from 2000 to 2021: \n",
    "    -   Production of `Millet` increases dramatically (over 100%, 2016)\n",
    "    -   `Millet` has the greatest decrease of production (45%, 2020)\n",
    "    -   Expect for Area Harvested of `Millet`, which significantly (about 68.26%)"
   ]
  },
  {
   "cell_type": "markdown",
   "metadata": {},
   "source": [
    "# Question 2: What is the correlation between the elements of production for each item?"
   ]
  },
  {
   "cell_type": "markdown",
   "metadata": {},
   "source": [
    "### Firstly, get all the data with A flag from 2000 to 2021, and choose Maize (corn), Rice, Sugarcane"
   ]
  },
  {
   "cell_type": "code",
   "execution_count": null,
   "metadata": {},
   "outputs": [],
   "source": [
    "production2=pd.merge(processed_data[3], external_data[2], how='left', on='Element Code')\n",
    "production2=pd.merge(production2, external_data[5], how='left', on='Item Code')\n",
    "production2=production2[production2['Year'].between(2000, 2021)][production2['Item'].str.contains(\"Wheat|Rice|Maize|Sorghum|Barley|Rye|Oats|Millet|Triticale|Fonio|Quinoa|Canary seed\")][production2['Value']!=0]\n",
    "\n",
    "display(production2)"
   ]
  },
  {
   "cell_type": "markdown",
   "metadata": {},
   "source": [
    "### For each Item dataframe, create a pivot table showing values of each element throughout the years\n",
    "### With the pivot table, you can now create a heatmap showing correlation between each element"
   ]
  },
  {
   "cell_type": "code",
   "execution_count": null,
   "metadata": {},
   "outputs": [],
   "source": [
    "nrows=1\n",
    "ncols=3\n",
    "\n",
    "i=0\n",
    "fig, axes=plt.subplots(nrows, ncols, figsize=(20, 5))\n",
    "plt.tight_layout()\n",
    "for item in production2['Item'].unique():\n",
    "    temp=production2[production2['Item']==item]\n",
    "\n",
    "    df=pd.pivot_table(temp, values='Value', index=['Domain Code', 'Area Code', 'Year'], columns=['Element'])\n",
    "\n",
    "    sbs.heatmap(data=df.corr(), ax=axes[i]).set(title=item)\n",
    "    i=i+1"
   ]
  },
  {
   "cell_type": "markdown",
   "metadata": {},
   "source": [
    "### Comment\n",
    "- The heatmap chart shows the correlation between each element of a certain item, giving us an insight to how these elements interact with each other to form a general formula calculating the values of them\n",
    "- Maize (corn):\n",
    "    - Greatest positive correlation: Yield (100 g/ha) and Production (t) (0.8)\n",
    "    - Least positive correlation: Yield (100 g/ha) and Area Harvested (ha) (0.35)\n",
    "- Millet:\n",
    "    - Greatest positive correlation: Yield (100 g/ha) and Production (t) (0.7)\n",
    "    - Least positive correlation: Production (t) and Area Harvested (ha) (0.4)\n",
    "    - Greatest negative correlation: Yield (100 g/ha) and Area Harvested (ha) (-0.2)\n",
    "- Rice:\n",
    "    - Greatest positive correlation: Yield (100 g/ha) and Production (t) (0.9)\n",
    "    - Least positive correlation: Yield (100 g/ha) and Area Harvested (ha) (0.18)"
   ]
  },
  {
   "cell_type": "markdown",
   "metadata": {},
   "source": [
    "# Question 3: What is the difference between workforce of 2 sexes?\n",
    "By answering this, we will find out the allocation of gender workforce in agriculture of Vietnam from 2000 to 2021, and predict the allocation of gender in the future\n",
    "### Here, the answer can be found in OA dataframe"
   ]
  },
  {
   "cell_type": "code",
   "execution_count": null,
   "metadata": {},
   "outputs": [],
   "source": [
    "sex_workforce=pd.merge(processed_data[0], external_data[2], how='left', on='Element Code')\n",
    "sex_workforce=pd.merge(sex_workforce, external_data[5], how='left', on='Item Code')\n"
   ]
  },
  {
   "cell_type": "markdown",
   "metadata": {},
   "source": [
    "### Let's get only from 2000 to 2021, only gender-related element"
   ]
  },
  {
   "cell_type": "code",
   "execution_count": null,
   "metadata": {},
   "outputs": [],
   "source": [
    "sex_workforce=sex_workforce[sex_workforce['Element'].str.contains(\"Male|Female\")][(sex_workforce['Year']==2000) | (sex_workforce['Year']==2005) | (sex_workforce['Year']==2010) | (sex_workforce['Year']==2015) | (sex_workforce['Year']==2020)]\n",
    "sex_workforce"
   ]
  },
  {
   "cell_type": "code",
   "execution_count": null,
   "metadata": {},
   "outputs": [],
   "source": [
    "get=pd.pivot_table(sex_workforce, values='Value', index=['Year'], columns=['Element'])\n",
    "ax=get.plot.bar(stacked=True)"
   ]
  },
  {
   "cell_type": "markdown",
   "metadata": {},
   "source": [
    "## Comment:\n",
    "- This stacked bar chart shows us the allocation of the sexes in workforce of Vietnamese agriculture. By doing so, we get an insight on how the gender allocation will occur in the future\n",
    "- Conclusion:\n",
    "    - The total number of workforce for both sexes increases gradually after 5 years\n",
    "    - While the male workers increase in number, the female workers have a more significant increase over the year, from male being more than 50% of the workforce in 2000 to female slightly dominating the workforce in 2020"
   ]
  },
  {
   "cell_type": "markdown",
   "metadata": {},
   "source": [
    "# Question 4: What is the cereal production and harvested area in Vietnam between 1999 and 2021?\n",
    "-   Purpose: Demonstrate the relationship between production and harvested area to illustrate the trends within the agriculture sector.\n",
    "-   What is cereal: https://unstats.un.org/unsd/classifications/Econ/Detail/EN/1074/011\n",
    "    -   Include: Wheat, Maize (corn), Rice, Sorghum, Barley, Rye, Oats, Millet, Triticale, Fonio, Quinoa, Canary seed."
   ]
  },
  {
   "cell_type": "code",
   "execution_count": null,
   "metadata": {},
   "outputs": [],
   "source": [
    "products_df = pd.read_csv(\"../data/processed/preprocess_QCL.csv\")\n",
    "item = pd.read_csv(\"../data/external/item_code.csv\")\n",
    "element = pd.read_csv(\"../data/external/element_code.csv\")"
   ]
  },
  {
   "cell_type": "code",
   "execution_count": null,
   "metadata": {},
   "outputs": [],
   "source": [
    "products_df = products_df.merge(item, how= 'left', on= 'Item Code')\n",
    "products_df = products_df.merge(element, how= 'left', on= 'Element Code')\n",
    "products_df"
   ]
  },
  {
   "cell_type": "markdown",
   "metadata": {},
   "source": [
    "-   Search for cereal data"
   ]
  },
  {
   "cell_type": "code",
   "execution_count": null,
   "metadata": {},
   "outputs": [],
   "source": [
    "cereal_df = products_df[products_df['Item'].str.contains(\"Wheat|Rice|Maize|Sorghum|Barley|Rye|Oats|Millet|Triticale|Fonio|Quinoa|Canary seed\")]\n",
    "cereal_df"
   ]
  },
  {
   "cell_type": "markdown",
   "metadata": {},
   "source": [
    "-   Look like data with flag `M` is missing data or not exist, drop those data."
   ]
  },
  {
   "cell_type": "code",
   "execution_count": null,
   "metadata": {},
   "outputs": [],
   "source": [
    "cereal_df = cereal_df[cereal_df.Flag != \"M\"]"
   ]
  },
  {
   "cell_type": "code",
   "execution_count": null,
   "metadata": {},
   "outputs": [],
   "source": [
    "data_production = cereal_df[cereal_df['Element Code'] == 5510]\n",
    "data_area = cereal_df[cereal_df['Element Code'] == 5312]\n",
    "\n",
    "data_production = data_production[data_production.Year.between(1999, 2022)]\n",
    "data_production\n",
    "\n",
    "data_area = data_area[data_area.Year.between(1999, 2022)]\n",
    "data_area\n",
    "\n",
    "n = 0\n",
    "\n",
    "fig = plt.figure(figsize=(10, 16))\n",
    "\n",
    "for item in data_production['Item'].unique():\n",
    "    prod = data_production[data_production['Item'] == item]\n",
    "    area = data_area[data_area['Item'] == item]\n",
    "    ax1 = plt.subplot(3, 1, n + 1)\n",
    "\n",
    "    line1 = ax1.plot(prod.Year,prod.Value, label= \"Production (t)\")\n",
    "    ax2 = ax1.twinx()\n",
    "    line2 = ax2.plot(area.Year,area.Value, label= \"Area Harvested (ha)\", c= 'r')\n",
    "\n",
    "\n",
    "    ax1.grid()\n",
    "    ax1.set_xlabel(\"Year\")\n",
    "    ax1.set_ylabel(\"Production (t)\")\n",
    "    ax2.set_ylabel(\"Area Harvested (ha)\")\n",
    "    ax1.set_title(f\"Production and Harvested Area of {item}\")\n",
    "    \n",
    "    lns = line1 + line2\n",
    "    labs = [l.get_label() for l in lns]\n",
    "    ax1.legend(lns, labs, loc=0)\n",
    "    n += 1\n",
    "\n",
    "plt.show()"
   ]
  },
  {
   "cell_type": "markdown",
   "metadata": {},
   "source": [
    "### Comment\n",
    "-   The graph above illustrates the cereal production and harvested area in Vietnam over the period from 1999 to 2021.\n",
    "-   Maize (corn):\n",
    "    -   Production: \n",
    "        -   grow discontinous, grow about: $$\\frac{4446383.17}{1753100.00} * 100\\% =  253.63\\% $$\n",
    "        -   Area Harvested: grow discontinous, grow about: $$\\frac{900673.0}{691800.0} * 100\\% =  130.19\\% $$   \n",
    "-   Millet:\n",
    "    -   Production: grow discontinous, grow about: $$\\frac{2106.63}{1800.0} * 100\\% =  117.035\\% $$\n",
    "    -   Area Harvested: fall discontinous, fall about: $$\\frac{1900.0 - 1297.0}{1900.0} * 100\\% =  31.74\\% $$\n",
    "-   Rice:\n",
    "    -   Production: grow discontinous, grow about: $$\\frac{43852728.69}{31393800.0} * 100\\% =  139.69\\% $$\n",
    "    -   Area Harvested: fall discontinous, fall about: $$\\frac{7653600.0 - 7219797.0}{7653600.0} * 100\\% =  5.67\\% $$\n",
    "\n",
    "-   In conclusion: from 1999 to 2021: \n",
    "    -   Production of `Maize (corn)`, `Millet`, and `Rice` increase dramatically (over 100%)\n",
    "    -   Area Harvested of `Maize (corn)` increase dramatically (over 100%)\n",
    "    -   Expect for Area Harvested of `Millet`, which fall significantly (about 31.74%) and and `Rice`, which fall slighly (about 5.67%)"
   ]
  },
  {
   "cell_type": "markdown",
   "metadata": {},
   "source": [
    "# Question 5: What is the top 5 yield of crop in Vietnam between 1961 to 2021?"
   ]
  },
  {
   "cell_type": "code",
   "execution_count": null,
   "metadata": {},
   "outputs": [],
   "source": [
    "qcl=pd.read_csv(\"../data/raw/QCL.csv\")\n",
    "qcl"
   ]
  },
  {
   "cell_type": "code",
   "execution_count": null,
   "metadata": {},
   "outputs": [],
   "source": [
    "\n",
    "yields= qcl[qcl['Element Code'] == 5419]\n",
    "years = yields['Year'].unique()\n",
    "result = []\n",
    "\n",
    "for year in years:\n",
    "    data_year = yields[yields['Year'] == year]\n",
    "    top_5 = data_year.nlargest(5, 'Value')\n",
    "    for idx, row in top_5.iterrows():\n",
    "        result.append({\n",
    "            'Year': row['Year'],\n",
    "            'Item': row['Item'],\n",
    "            'Value': row['Value'],\n",
    "            'Unit': row['Unit']\n",
    "        })\n",
    "\n",
    "result_df = pd.DataFrame(result, columns=['Year', 'Item', 'Value', 'Unit'])\n",
    "\n",
    "fig, axs = plt.subplots(nrows=len(years), figsize=(8, 6 * len(years)), dpi=80)\n",
    "\n",
    "for i, year in enumerate(years):\n",
    "    data_year = result_df[result_df['Year'] == year]\n",
    "    ax = axs[i]\n",
    "    ax.bar(data_year['Item'], data_year['Value'], width=0.4)\n",
    "    ax.set_title(f'Year {year}')\n",
    "    ax.set_xlabel('Item')\n",
    "    ax.set_ylabel('Value')\n",
    "    ax.set_xticklabels(data_year['Item'])\n",
    "\n",
    "plt.tight_layout()\n",
    "plt.show()\n",
    "result_df"
   ]
  },
  {
   "cell_type": "markdown",
   "metadata": {},
   "source": [
    "### Comment\n",
    "\n",
    "From 1961 to 2021, Sugar Cane and Sugar Crops Primary consistently held the top positions nationwide in yield, almost neck and neck, surpassing the third position by nearly double in most years. However, the third to fifth spots have been subject to frequent changes among a few crop varieties such as Cabbages, Cauliflowers and broccoli, Potatoes, Guavas and mangosteens, Watermelons, Bananas, Grapes, and Pomelos and grapefruits. Notably, Cabbages have maintained a consistent presence in the top 5 throughout the years. Cauliflowers and broccoli sustained its top 5 status until 2011, gradually giving way to other crops, only reappearing in the singular year of 2018 until the present.\n",
    "\n",
    "Potatoes held a top 5 position from 1961 to 1975, subsequently disappearing, leading to the emergence of Guavas and mangosteens for a brief period from 1976 to 1979, and in 1987 and 1988. Bananas surged in to replace Guavas and mangosteens from 1980 to 1999, except for the years 1987 and 1988. The year 2000 marked the first and only appearance of Pomelos and grapefruits in the top 5, replacing Bananas.\n",
    "\n",
    "Between 2001 and 2005, Watermelon entered the top 5 and reappeared from 2011 until the end of 2021. Finally, Grapes emerged in 2006 and have consistently maintained a top 5 position ever since."
   ]
  }
 ],
 "metadata": {
  "kernelspec": {
   "display_name": "Python 3",
   "language": "python",
   "name": "python3"
  },
  "language_info": {
   "codemirror_mode": {
    "name": "ipython",
    "version": 3
   },
   "file_extension": ".py",
   "mimetype": "text/x-python",
   "name": "python",
   "nbconvert_exporter": "python",
   "pygments_lexer": "ipython3",
   "version": "3.10.13"
  }
 },
 "nbformat": 4,
 "nbformat_minor": 2
}
