{
 "cells": [
  {
   "cell_type": "markdown",
   "metadata": {},
   "source": [
    "<div style=\"text-align: center; background-color: #5A96E3; font-family: 'Trebuchet MS', Arial, sans-serif; color: white; padding: 20px; font-size: 40px; font-weight: bold; border-radius: 0 0 0 0; box-shadow: 0px 6px 8px rgba(0, 0, 0, 0.2);\">\n",
    "  Data collecting\n",
    "</div>"
   ]
  },
  {
   "cell_type": "markdown",
   "metadata": {},
   "source": [
    "<div style= \"color: white\">\n",
    "<center>\n",
    "Group 10\n",
    "\n",
    "Quách Tấn Dũng - 21127247\n",
    "\n",
    "Phạm Trần Minh Duy - 21127257\n",
    "\n",
    "Đặng Quốc Thái - 21127545\n",
    "</center>\n",
    "</div>"
   ]
  },
  {
   "cell_type": "code",
   "execution_count": 1,
   "metadata": {},
   "outputs": [],
   "source": [
    "import pandas as pd\n",
    "import requests\n",
    "import json"
   ]
  },
  {
   "cell_type": "markdown",
   "metadata": {},
   "source": [
    "### Collect data\n",
    "-   Data get from: https://data.apps.fao.org/"
   ]
  },
  {
   "cell_type": "code",
   "execution_count": 2,
   "metadata": {},
   "outputs": [],
   "source": [
    "# This some URLs that we find from that wesite, we gonna go with Vietnam\n",
    "area_code = 237 # Vietnam area code according to FAO\n",
    "content = requests.get(f\"https://fenixservices.fao.org/faostat/api/v1/en/data/QCL?area={area_code}\")"
   ]
  },
  {
   "cell_type": "code",
   "execution_count": 3,
   "metadata": {},
   "outputs": [
    {
     "name": "stdout",
     "output_type": "stream",
     "text": [
      "{'Date': 'Fri, 01 Dec 2023 11:46:36 GMT', 'Content-Type': 'application/json; charset=utf-8', 'Transfer-Encoding': 'chunked', 'Connection': 'keep-alive', 'CF-Ray': '82eb170fed98509a-HKG', 'CF-Cache-Status': 'DYNAMIC', 'Access-Control-Allow-Origin': '*', 'Set-Cookie': 'JSESSIONID=9EE8A2C2EF43BA652162CF012BF6AF39; Path=/api/; HttpOnly', 'Vary': 'Accept-Encoding', 'Server': 'cloudflare', 'Content-Encoding': 'gzip'}\n"
     ]
    }
   ],
   "source": [
    "print(content.headers)"
   ]
  },
  {
   "cell_type": "markdown",
   "metadata": {},
   "source": [
    "-   So the content that we get from that URL is a JSON style content so we convert it to JSON format and save to a Dataframe"
   ]
  },
  {
   "cell_type": "code",
   "execution_count": 4,
   "metadata": {},
   "outputs": [
    {
     "data": {
      "text/html": [
       "<div>\n",
       "<style scoped>\n",
       "    .dataframe tbody tr th:only-of-type {\n",
       "        vertical-align: middle;\n",
       "    }\n",
       "\n",
       "    .dataframe tbody tr th {\n",
       "        vertical-align: top;\n",
       "    }\n",
       "\n",
       "    .dataframe thead th {\n",
       "        text-align: right;\n",
       "    }\n",
       "</style>\n",
       "<table border=\"1\" class=\"dataframe\">\n",
       "  <thead>\n",
       "    <tr style=\"text-align: right;\">\n",
       "      <th></th>\n",
       "      <th>Domain Code</th>\n",
       "      <th>Domain</th>\n",
       "      <th>Area Code</th>\n",
       "      <th>Area</th>\n",
       "      <th>Element Code</th>\n",
       "      <th>Element</th>\n",
       "      <th>Item Code</th>\n",
       "      <th>Item</th>\n",
       "      <th>Year Code</th>\n",
       "      <th>Year</th>\n",
       "      <th>Unit</th>\n",
       "      <th>Value</th>\n",
       "      <th>Flag</th>\n",
       "      <th>Flag Description</th>\n",
       "      <th>Note</th>\n",
       "    </tr>\n",
       "  </thead>\n",
       "  <tbody>\n",
       "    <tr>\n",
       "      <th>0</th>\n",
       "      <td>QCL</td>\n",
       "      <td>Crops and livestock products</td>\n",
       "      <td>237</td>\n",
       "      <td>Viet Nam</td>\n",
       "      <td>5312</td>\n",
       "      <td>Area harvested</td>\n",
       "      <td>711</td>\n",
       "      <td>Anise, badian, coriander, cumin, caraway, fenn...</td>\n",
       "      <td>1961</td>\n",
       "      <td>1961</td>\n",
       "      <td>ha</td>\n",
       "      <td>1000</td>\n",
       "      <td>E</td>\n",
       "      <td>Estimated value</td>\n",
       "      <td></td>\n",
       "    </tr>\n",
       "    <tr>\n",
       "      <th>1</th>\n",
       "      <td>QCL</td>\n",
       "      <td>Crops and livestock products</td>\n",
       "      <td>237</td>\n",
       "      <td>Viet Nam</td>\n",
       "      <td>5419</td>\n",
       "      <td>Yield</td>\n",
       "      <td>711</td>\n",
       "      <td>Anise, badian, coriander, cumin, caraway, fenn...</td>\n",
       "      <td>1961</td>\n",
       "      <td>1961</td>\n",
       "      <td>100 g/ha</td>\n",
       "      <td>7000</td>\n",
       "      <td>E</td>\n",
       "      <td>Estimated value</td>\n",
       "      <td></td>\n",
       "    </tr>\n",
       "    <tr>\n",
       "      <th>2</th>\n",
       "      <td>QCL</td>\n",
       "      <td>Crops and livestock products</td>\n",
       "      <td>237</td>\n",
       "      <td>Viet Nam</td>\n",
       "      <td>5510</td>\n",
       "      <td>Production</td>\n",
       "      <td>711</td>\n",
       "      <td>Anise, badian, coriander, cumin, caraway, fenn...</td>\n",
       "      <td>1961</td>\n",
       "      <td>1961</td>\n",
       "      <td>t</td>\n",
       "      <td>700</td>\n",
       "      <td>E</td>\n",
       "      <td>Estimated value</td>\n",
       "      <td></td>\n",
       "    </tr>\n",
       "    <tr>\n",
       "      <th>3</th>\n",
       "      <td>QCL</td>\n",
       "      <td>Crops and livestock products</td>\n",
       "      <td>237</td>\n",
       "      <td>Viet Nam</td>\n",
       "      <td>5312</td>\n",
       "      <td>Area harvested</td>\n",
       "      <td>711</td>\n",
       "      <td>Anise, badian, coriander, cumin, caraway, fenn...</td>\n",
       "      <td>1962</td>\n",
       "      <td>1962</td>\n",
       "      <td>ha</td>\n",
       "      <td>1000</td>\n",
       "      <td>E</td>\n",
       "      <td>Estimated value</td>\n",
       "      <td></td>\n",
       "    </tr>\n",
       "    <tr>\n",
       "      <th>4</th>\n",
       "      <td>QCL</td>\n",
       "      <td>Crops and livestock products</td>\n",
       "      <td>237</td>\n",
       "      <td>Viet Nam</td>\n",
       "      <td>5419</td>\n",
       "      <td>Yield</td>\n",
       "      <td>711</td>\n",
       "      <td>Anise, badian, coriander, cumin, caraway, fenn...</td>\n",
       "      <td>1962</td>\n",
       "      <td>1962</td>\n",
       "      <td>100 g/ha</td>\n",
       "      <td>7000</td>\n",
       "      <td>E</td>\n",
       "      <td>Estimated value</td>\n",
       "      <td></td>\n",
       "    </tr>\n",
       "  </tbody>\n",
       "</table>\n",
       "</div>"
      ],
      "text/plain": [
       "  Domain Code                        Domain Area Code      Area Element Code  \\\n",
       "0         QCL  Crops and livestock products       237  Viet Nam         5312   \n",
       "1         QCL  Crops and livestock products       237  Viet Nam         5419   \n",
       "2         QCL  Crops and livestock products       237  Viet Nam         5510   \n",
       "3         QCL  Crops and livestock products       237  Viet Nam         5312   \n",
       "4         QCL  Crops and livestock products       237  Viet Nam         5419   \n",
       "\n",
       "          Element Item Code  \\\n",
       "0  Area harvested       711   \n",
       "1           Yield       711   \n",
       "2      Production       711   \n",
       "3  Area harvested       711   \n",
       "4           Yield       711   \n",
       "\n",
       "                                                Item Year Code  Year  \\\n",
       "0  Anise, badian, coriander, cumin, caraway, fenn...      1961  1961   \n",
       "1  Anise, badian, coriander, cumin, caraway, fenn...      1961  1961   \n",
       "2  Anise, badian, coriander, cumin, caraway, fenn...      1961  1961   \n",
       "3  Anise, badian, coriander, cumin, caraway, fenn...      1962  1962   \n",
       "4  Anise, badian, coriander, cumin, caraway, fenn...      1962  1962   \n",
       "\n",
       "       Unit Value Flag Flag Description Note  \n",
       "0        ha  1000    E  Estimated value       \n",
       "1  100 g/ha  7000    E  Estimated value       \n",
       "2         t   700    E  Estimated value       \n",
       "3        ha  1000    E  Estimated value       \n",
       "4  100 g/ha  7000    E  Estimated value       "
      ]
     },
     "execution_count": 4,
     "metadata": {},
     "output_type": "execute_result"
    }
   ],
   "source": [
    "raw_df = pd.DataFrame(content.json()['data'])\n",
    "raw_df.head()"
   ]
  },
  {
   "cell_type": "markdown",
   "metadata": {},
   "source": [
    "-   Let's test if we have at least 1000 observations and 5 fields"
   ]
  },
  {
   "cell_type": "code",
   "execution_count": 5,
   "metadata": {},
   "outputs": [],
   "source": [
    "shape = raw_df.shape"
   ]
  },
  {
   "cell_type": "code",
   "execution_count": 6,
   "metadata": {},
   "outputs": [
    {
     "name": "stdout",
     "output_type": "stream",
     "text": [
      "Current shape: (15070, 15)\n",
      "Data good!.\n"
     ]
    }
   ],
   "source": [
    "# TEST\n",
    "print(f\"Current shape: {shape}\")\n",
    "\n",
    "if shape[0] >= 1000 and shape[1] >= 5:\n",
    "    print(f\"Data good!.\")\n",
    "else:\n",
    "    print(f\"Raw data absolutely small\")"
   ]
  },
  {
   "cell_type": "markdown",
   "metadata": {},
   "source": [
    "### Save collected data to file\n",
    "-   Now we save the DataFrame to a csv file"
   ]
  },
  {
   "cell_type": "code",
   "execution_count": 8,
   "metadata": {},
   "outputs": [],
   "source": [
    "raw_df.to_csv(\"../data/raw/raw_data.csv\", index= False)"
   ]
  }
 ],
 "metadata": {
  "kernelspec": {
   "display_name": "Python 3",
   "language": "python",
   "name": "python3"
  },
  "language_info": {
   "codemirror_mode": {
    "name": "ipython",
    "version": 3
   },
   "file_extension": ".py",
   "mimetype": "text/x-python",
   "name": "python",
   "nbconvert_exporter": "python",
   "pygments_lexer": "ipython3",
   "version": "3.10.13"
  }
 },
 "nbformat": 4,
 "nbformat_minor": 2
}
