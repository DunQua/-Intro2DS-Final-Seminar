{
 "cells": [
  {
   "cell_type": "markdown",
   "metadata": {},
   "source": [
    "<div style=\"text-align: center; background-color: #5A96E3; font-family: 'Trebuchet MS', Arial, sans-serif; color: white; padding: 20px; font-size: 40px; font-weight: bold; border-radius: 0 0 0 0; box-shadow: 0px 6px 8px rgba(0, 0, 0, 0.2);\">\n",
    "  Preprocess Data\n",
    "</div>"
   ]
  },
  {
   "cell_type": "code",
   "execution_count": null,
   "metadata": {},
   "outputs": [],
   "source": [
    "import pandas as pd"
   ]
  },
  {
   "cell_type": "markdown",
   "metadata": {},
   "source": [
    "### Read raw data that we have collected"
   ]
  },
  {
   "cell_type": "code",
   "execution_count": null,
   "metadata": {},
   "outputs": [],
   "source": [
    "annual_pop_df = pd.read_csv(\"../data/raw/OA.csv\")\n",
    "agri_employments_df = pd.read_csv(\"../data/raw/OEA.csv\")\n",
    "rural_employments_df = pd.read_csv(\"../data/raw/OER.csv\")\n",
    "values_df = pd.read_csv(\"../data/raw/QCL.csv\")\n",
    "products_df = pd.read_csv(\"../data/raw/QV.csv\")\n",
    "\n",
    "display(annual_pop_df.head(3))\n",
    "display(agri_employments_df.head(3))\n",
    "display(rural_employments_df.head(3))\n",
    "display(values_df.head(3))\n",
    "display(products_df.head(3))"
   ]
  },
  {
   "cell_type": "markdown",
   "metadata": {},
   "source": [
    "### Clear duplicates columns:\n",
    "-   There is `Year Code` and `Year` columns, they have the same values, so we drop the `Year Code`."
   ]
  },
  {
   "cell_type": "code",
   "execution_count": null,
   "metadata": {},
   "outputs": [],
   "source": [
    "annual_pop_df = annual_pop_df.drop(columns=['Year Code'])\n",
    "agri_employments_df = agri_employments_df.drop(columns=['Year Code'])\n",
    "rural_employments_df = rural_employments_df.drop(columns=['Year Code'])\n",
    "values_df = values_df.drop(columns=['Year Code'])\n",
    "products_df = products_df.drop(columns=['Year Code'])"
   ]
  },
  {
   "cell_type": "markdown",
   "metadata": {},
   "source": [
    "### Check for duplicate rows"
   ]
  },
  {
   "cell_type": "code",
   "execution_count": null,
   "metadata": {},
   "outputs": [],
   "source": [
    "for df in [annual_pop_df, agri_employments_df, rural_employments_df, values_df, products_df]:\n",
    "    index = agri_employments_df.index\n",
    "    detectDupSeries = index.duplicated(keep='first')\n",
    "    num_duplicated_rows = detectDupSeries.sum()\n",
    "    if num_duplicated_rows == 0:\n",
    "        print(f\"{df['Domain'].values[0]} have no duplicated line.!\")\n",
    "    else:\n",
    "        if num_duplicated_rows > 1:\n",
    "            ext = \"lines\"\n",
    "        else:\n",
    "            ext = \"line\"\n",
    "        print(f\"{df['Domain'].values[0]} {num_duplicated_rows} duplicated \" + ext + \". Please de-deduplicate your raw data.!\")"
   ]
  },
  {
   "cell_type": "markdown",
   "metadata": {},
   "source": [
    "### Determine the features that have a large number of missing values"
   ]
  },
  {
   "cell_type": "code",
   "execution_count": null,
   "metadata": {},
   "outputs": [],
   "source": [
    "for df in [annual_pop_df, agri_employments_df, rural_employments_df, values_df, products_df]:\n",
    "    percent_missing = df.isnull().sum() * 100 / len(df)\n",
    "    missing_value_df = pd.DataFrame({'column_name': df.columns,\n",
    "                                    'percent_missing': percent_missing})\n",
    "    \n",
    "    miss = (missing_value_df['column_name'][missing_value_df['percent_missing'].values >= 75]).values\n",
    "    print(f\"{df['Domain'].values[0]}, features with large missing value: {miss} (>= 75%)\")"
   ]
  },
  {
   "cell_type": "markdown",
   "metadata": {},
   "source": [
    "-   `annual_pop_df` and `products_df` have `Note` as the features that have a large number of missing values, but for now, we will keep it"
   ]
  },
  {
   "cell_type": "markdown",
   "metadata": {},
   "source": [
    "### Check data type of each columns"
   ]
  },
  {
   "cell_type": "code",
   "execution_count": null,
   "metadata": {},
   "outputs": [],
   "source": [
    "for df in [annual_pop_df, agri_employments_df, rural_employments_df, values_df, products_df]:\n",
    "    df.info()"
   ]
  },
  {
   "cell_type": "markdown",
   "metadata": {},
   "source": [
    "-   For all of the above dataframe: `Area Code`, `Element Code`, `Item Code`, `Year` , `Indicator Code` have numeric type. However, their magnitude does not have a significance. And, `Year` actually represents a period instead of a number, `Area Code`, `Element Code`, `Item Code`, `Indicator Code` are just a category. Thus, they can be convert to categorical type."
   ]
  },
  {
   "cell_type": "code",
   "execution_count": 151,
   "metadata": {},
   "outputs": [],
   "source": [
    "for col in annual_pop_df.drop(columns= 'Value').columns:\n",
    "    annual_pop_df[col] = annual_pop_df[col].astype(str)\n",
    "\n",
    "for col in agri_employments_df.drop(columns= 'Value').columns:\n",
    "    agri_employments_df[col] = agri_employments_df[col].astype(str)\n",
    "\n",
    "for col in rural_employments_df.drop(columns= 'Value').columns:\n",
    "    rural_employments_df[col] = rural_employments_df[col].astype(str)\n",
    "\n",
    "for col in values_df.drop(columns= 'Value').columns:\n",
    "    values_df[col] = values_df[col].astype(str)\n",
    "\n",
    "for col in products_df.drop(columns= 'Value').columns:\n",
    "    products_df[col] = products_df[col].astype(str)"
   ]
  },
  {
   "cell_type": "markdown",
   "metadata": {},
   "source": [
    "-   Let check one last time"
   ]
  },
  {
   "cell_type": "code",
   "execution_count": 152,
   "metadata": {},
   "outputs": [
    {
     "name": "stdout",
     "output_type": "stream",
     "text": [
      "<class 'pandas.core.frame.DataFrame'>\n",
      "RangeIndex: 655 entries, 0 to 654\n",
      "Data columns (total 14 columns):\n",
      " #   Column            Non-Null Count  Dtype  \n",
      "---  ------            --------------  -----  \n",
      " 0   Domain Code       655 non-null    object \n",
      " 1   Domain            655 non-null    object \n",
      " 2   Area Code         655 non-null    object \n",
      " 3   Area              655 non-null    object \n",
      " 4   Element Code      655 non-null    object \n",
      " 5   Element           655 non-null    object \n",
      " 6   Item Code         655 non-null    object \n",
      " 7   Item              655 non-null    object \n",
      " 8   Year              655 non-null    object \n",
      " 9   Unit              655 non-null    object \n",
      " 10  Value             655 non-null    float64\n",
      " 11  Flag              655 non-null    object \n",
      " 12  Flag Description  655 non-null    object \n",
      " 13  Note              655 non-null    object \n",
      "dtypes: float64(1), object(13)\n",
      "memory usage: 71.8+ KB\n",
      "<class 'pandas.core.frame.DataFrame'>\n",
      "RangeIndex: 1096 entries, 0 to 1095\n",
      "Data columns (total 18 columns):\n",
      " #   Column            Non-Null Count  Dtype  \n",
      "---  ------            --------------  -----  \n",
      " 0   Domain Code       1096 non-null   object \n",
      " 1   Domain            1096 non-null   object \n",
      " 2   Area Code         1096 non-null   object \n",
      " 3   Area              1096 non-null   object \n",
      " 4   Indicator Code    1096 non-null   object \n",
      " 5   Indicator         1096 non-null   object \n",
      " 6   Sex Code          1096 non-null   object \n",
      " 7   Sex               1096 non-null   object \n",
      " 8   Year              1096 non-null   object \n",
      " 9   Element Code      1096 non-null   object \n",
      " 10  Element           1096 non-null   object \n",
      " 11  Source Code       1096 non-null   object \n",
      " 12  Source            1096 non-null   object \n",
      " 13  Unit              1096 non-null   object \n",
      " 14  Value             1096 non-null   float64\n",
      " 15  Flag              1096 non-null   object \n",
      " 16  Flag Description  1096 non-null   object \n",
      " 17  Note              1096 non-null   object \n",
      "dtypes: float64(1), object(17)\n",
      "memory usage: 154.2+ KB\n",
      "<class 'pandas.core.frame.DataFrame'>\n",
      "RangeIndex: 936 entries, 0 to 935\n",
      "Data columns (total 18 columns):\n",
      " #   Column            Non-Null Count  Dtype  \n",
      "---  ------            --------------  -----  \n",
      " 0   Domain Code       936 non-null    object \n",
      " 1   Domain            936 non-null    object \n",
      " 2   Area Code         936 non-null    object \n",
      " 3   Area              936 non-null    object \n",
      " 4   Indicator Code    936 non-null    object \n",
      " 5   Indicator         936 non-null    object \n",
      " 6   Sex Code          936 non-null    object \n",
      " 7   Sex               936 non-null    object \n",
      " 8   Year              936 non-null    object \n",
      " 9   Element Code      936 non-null    object \n",
      " 10  Element           936 non-null    object \n",
      " 11  Source Code       936 non-null    object \n",
      " 12  Source            936 non-null    object \n",
      " 13  Unit              936 non-null    object \n",
      " 14  Value             936 non-null    float64\n",
      " 15  Flag              936 non-null    object \n",
      " 16  Flag Description  936 non-null    object \n",
      " 17  Note              936 non-null    object \n",
      "dtypes: float64(1), object(17)\n",
      "memory usage: 131.8+ KB\n",
      "<class 'pandas.core.frame.DataFrame'>\n",
      "RangeIndex: 15070 entries, 0 to 15069\n",
      "Data columns (total 14 columns):\n",
      " #   Column            Non-Null Count  Dtype  \n",
      "---  ------            --------------  -----  \n",
      " 0   Domain Code       15070 non-null  object \n",
      " 1   Domain            15070 non-null  object \n",
      " 2   Area Code         15070 non-null  object \n",
      " 3   Area              15070 non-null  object \n",
      " 4   Element Code      15070 non-null  object \n",
      " 5   Element           15070 non-null  object \n",
      " 6   Item Code         15070 non-null  object \n",
      " 7   Item              15070 non-null  object \n",
      " 8   Year              15070 non-null  object \n",
      " 9   Unit              15070 non-null  object \n",
      " 10  Value             15070 non-null  float64\n",
      " 11  Flag              15070 non-null  object \n",
      " 12  Flag Description  15070 non-null  object \n",
      " 13  Note              15070 non-null  object \n",
      "dtypes: float64(1), object(13)\n",
      "memory usage: 1.6+ MB\n",
      "<class 'pandas.core.frame.DataFrame'>\n",
      "RangeIndex: 13785 entries, 0 to 13784\n",
      "Data columns (total 13 columns):\n",
      " #   Column            Non-Null Count  Dtype \n",
      "---  ------            --------------  ----- \n",
      " 0   Domain Code       13785 non-null  object\n",
      " 1   Domain            13785 non-null  object\n",
      " 2   Area Code         13785 non-null  object\n",
      " 3   Area              13785 non-null  object\n",
      " 4   Element Code      13785 non-null  object\n",
      " 5   Element           13785 non-null  object\n",
      " 6   Item Code         13785 non-null  object\n",
      " 7   Item              13785 non-null  object\n",
      " 8   Year              13785 non-null  object\n",
      " 9   Unit              13785 non-null  object\n",
      " 10  Value             13785 non-null  int64 \n",
      " 11  Flag              13785 non-null  object\n",
      " 12  Flag Description  13785 non-null  object\n",
      "dtypes: int64(1), object(12)\n",
      "memory usage: 1.4+ MB\n"
     ]
    }
   ],
   "source": [
    "for df in [annual_pop_df, agri_employments_df, rural_employments_df, values_df, products_df]:\n",
    "    df.info()"
   ]
  },
  {
   "cell_type": "markdown",
   "metadata": {},
   "source": [
    "### Save processed data to a new csv file"
   ]
  },
  {
   "cell_type": "code",
   "execution_count": 153,
   "metadata": {},
   "outputs": [],
   "source": [
    "annual_pop_df.to_csv(\"../data/processed/preprocess_OA.csv\")\n",
    "agri_employments_df.to_csv(\"../data/processed/preprocess_OEA.csv\")\n",
    "rural_employments_df.to_csv(\"../data/processed/preprocess_OER.csv\")\n",
    "values_df.to_csv(\"../data/processed/preprocess_QV.csv\")\n",
    "products_df.to_csv(\"../data/processed/preprocess_QCL.csv\")"
   ]
  }
 ],
 "metadata": {
  "kernelspec": {
   "display_name": "base",
   "language": "python",
   "name": "python3"
  },
  "language_info": {
   "codemirror_mode": {
    "name": "ipython",
    "version": 3
   },
   "file_extension": ".py",
   "mimetype": "text/x-python",
   "name": "python",
   "nbconvert_exporter": "python",
   "pygments_lexer": "ipython3",
   "version": "3.10.13"
  }
 },
 "nbformat": 4,
 "nbformat_minor": 2
}
